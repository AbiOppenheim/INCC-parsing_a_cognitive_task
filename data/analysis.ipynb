{
 "cells": [
  {
   "cell_type": "markdown",
   "metadata": {
    "id": "_MBqt5fidYXG",
    "pycharm": {
     "name": "#%% md\n"
    }
   },
   "source": [
    "#### Defino words_to_numbers"
   ]
  },
  {
   "cell_type": "code",
   "execution_count": 1,
   "metadata": {
    "id": "M5MFcZpQdYXJ",
    "pycharm": {
     "is_executing": true,
     "name": "#%%\n"
    }
   },
   "outputs": [],
   "source": [
    "words_to_numbers = {\n",
    "    \"veintiuno\": 21,\n",
    "    \"veintidós\": 22,\n",
    "    \"veintitres\": 23,\n",
    "    \"veinticuatro\": 24,\n",
    "    \"veinticinco\": 25,\n",
    "    \"veintiseis\": 26,\n",
    "    \"veintisiete\": 27,\n",
    "    \"veintiocho\": 28,\n",
    "    \"veintinueve\": 29,\n",
    "    \"treinta\": 30,\n",
    "    \"treinta y uno\": 31,\n",
    "    \"treinta y dos\": 32,\n",
    "    \"treinta y tres\": 33,\n",
    "    \"treinta y cuatro\": 34,\n",
    "    \"treinta y cinco\": 35,\n",
    "    \"treinta y seis\": 36,\n",
    "    \"treinta y siete\": 37,\n",
    "    \"treinta y ocho\": 38,\n",
    "    \"treinta y nueve\": 39,\n",
    "    \"cuarenta\": 40,\n",
    "    \"cuarenta y uno\": 41,\n",
    "    \"cuarenta y dos\": 42,\n",
    "    \"cuarenta y tres\": 43,\n",
    "    \"cuarenta y cuatro\": 44,\n",
    "    \"cuarenta y seis\": 46,\n",
    "    \"cuarenta y siete\": 47,\n",
    "    \"cuarenta y ocho\": 48,\n",
    "    \"cuarenta y nueve\": 49,\n",
    "    \"cincuenta\": 50,\n",
    "    \"cincuenta y uno\": 51,\n",
    "    \"cincuenta y dos\": 52,\n",
    "    \"cincuenta y tres\": 53,\n",
    "    \"cincuenta y cuatro\": 54,\n",
    "    \"cincuenta y cinco\": 55,\n",
    "    \"cincuenta y seis\": 56,\n",
    "    \"cincuenta y siete\": 57,\n",
    "    \"cincuenta y ocho\": 58,\n",
    "    \"cincuenta y nueve\": 59,\n",
    "    \"sesenta\": 60,\n",
    "    \"sesenta y uno\": 61,\n",
    "    \"sesenta y dos\": 62,\n",
    "    \"sesenta y tres\": 63,\n",
    "    \"sesenta y cuatro\": 64,\n",
    "    \"sesenta y cinco\": 65,\n",
    "    \"sesenta y seis\": 66,\n",
    "    \"sesenta y siete\": 67,\n",
    "    \"sesenta y ocho\": 68,\n",
    "    \"sesenta y nueve\": 69\n",
    "}"
   ]
  },
  {
   "cell_type": "markdown",
   "metadata": {
    "id": "VrxdRxSPdYXK",
    "pycharm": {
     "name": "#%% md\n"
    }
   },
   "source": [
    "####  Setup"
   ]
  },
  {
   "cell_type": "code",
   "execution_count": null,
   "outputs": [],
   "source": [
    "import pandas as pd\n",
    "import os\n",
    "import math\n",
    "import json\n"
   ],
   "metadata": {
    "collapsed": false,
    "pycharm": {
     "name": "#%%\n"
    }
   }
  },
  {
   "cell_type": "code",
   "execution_count": null,
   "outputs": [],
   "source": [
    "# Más automatizado, por si tenemos muchos archivos:\n",
    "\n",
    "# dfs = {}\n",
    "# ejecuciones = list(map(lambda x: x[:-4], os.listdir('ejecuciones')))\n",
    "# for e in participantes:\n",
    "#     dfs[e] = pd.read_csv(f'ejecuciones/{e}.csv')"
   ],
   "metadata": {
    "collapsed": false,
    "pycharm": {
     "name": "#%%\n"
    }
   }
  },
  {
   "cell_type": "code",
   "execution_count": null,
   "outputs": [],
   "source": [
    "try:\n",
    "  df = pd.read_csv('./raw/18.csv') # bloque 1 y 2 con dígitos, 3 y 4 con palabras.\n",
    "except FileNotFoundError:\n",
    "  raise Exception('Hay que agregar una carpeta llamada \"ejecuciones\" con los csv y nombrar a cada archivo 1, 2, 3...')"
   ],
   "metadata": {
    "collapsed": false,
    "pycharm": {
     "name": "#%%\n"
    }
   }
  },
  {
   "cell_type": "code",
   "execution_count": null,
   "outputs": [],
   "source": [
    "df.columns #13"
   ],
   "metadata": {
    "collapsed": false,
    "pycharm": {
     "name": "#%%\n"
    }
   }
  },
  {
   "cell_type": "code",
   "execution_count": null,
   "outputs": [],
   "source": [
    "ID = f\"{df['ip'][0]}_{df['recorded_at'][0][:10]}_{json.loads(df.iloc[8, 25])['gender']}_{json.loads(df.iloc[8, 25])['hand']}\""
   ],
   "metadata": {
    "collapsed": false,
    "pycharm": {
     "name": "#%%\n"
    }
   }
  },
  {
   "cell_type": "code",
   "execution_count": null,
   "outputs": [],
   "source": [
    "# show 'stimulus', 'response' of df\n",
    "df[['stimulus', 'response']].head(20)"
   ],
   "metadata": {
    "collapsed": false,
    "pycharm": {
     "name": "#%%\n"
    }
   }
  },
  {
   "cell_type": "markdown",
   "source": [
    "Les saco las tasks de entrenamiento e instrucciones y dejo sólo las que tienen algún valor en \"block\", que son las tasks del experimento.\n",
    "Luego las ordeno primero por bloque y después por ronda, de manera ascendente."
   ],
   "metadata": {
    "collapsed": false,
    "pycharm": {
     "name": "#%% md\n"
    }
   }
  },
  {
   "cell_type": "code",
   "execution_count": null,
   "outputs": [],
   "source": [
    "columnas_importantes = ['block', 'round', 'task', 'trial_duration', 'delay', 'audioFile', 'number', 'stimulus', 'response',  'rt']\n",
    "df = df[columnas_importantes]\n",
    "df = df.dropna(subset=['block'])\n",
    "df = df.sort_values(by=['block', 'round'], ascending=[True, True])\n",
    "# Group by 'block' and 'round', then aggregate 'task' using join\n",
    "df['type'] = df.groupby(['block', 'round'])['task'].transform(lambda x: '+'.join(x))"
   ],
   "metadata": {
    "collapsed": false,
    "pycharm": {
     "name": "#%%\n"
    }
   }
  },
  {
   "cell_type": "code",
   "execution_count": null,
   "outputs": [],
   "source": [
    "df['type'].unique()"
   ],
   "metadata": {
    "collapsed": false,
    "pycharm": {
     "name": "#%%\n"
    }
   }
  },
  {
   "cell_type": "code",
   "execution_count": null,
   "outputs": [],
   "source": [
    "# add new ['response_1','rt_1','response_2','rt_2'] none columns\n",
    "df.loc[:, 'response_1'] = None\n",
    "df.loc[:, 'rt_1'] = None\n",
    "df.loc[:, 'response_2'] = None\n",
    "df.loc[:, 'rt_2'] = None"
   ],
   "metadata": {
    "collapsed": false,
    "pycharm": {
     "name": "#%%\n"
    }
   }
  },
  {
   "cell_type": "markdown",
   "source": [
    "## Tipo 1"
   ],
   "metadata": {
    "collapsed": false,
    "pycharm": {
     "name": "#%% md\n"
    }
   }
  },
  {
   "cell_type": "code",
   "execution_count": null,
   "outputs": [],
   "source": [
    "_df = df[df['type'] == 'tone_number_task+empty_block+empty_block']"
   ],
   "metadata": {
    "collapsed": false,
    "pycharm": {
     "name": "#%%\n"
    }
   }
  },
  {
   "cell_type": "code",
   "execution_count": null,
   "outputs": [],
   "source": [
    "indices_to_drop = []\n",
    "\n",
    "for index, row in _df.iterrows():\n",
    "    if row['task'] == 'tone_number_task' and _df.loc[index + 1, 'response'] in ['a', 's'] and _df.loc[index + 2, 'response'] in ['j', 'k']:\n",
    "        _df.loc[index, 'response_1'] = _df.loc[index + 1, 'response']\n",
    "        _df.loc[index, 'rt_1'] = _df.loc[index, 'trial_duration'] + _df.loc[index + 1, 'rt']\n",
    "        _df.loc[index, 'response_2'] = _df.loc[index + 2, 'response']\n",
    "        _df.loc[index, 'rt_2'] = 150 + _df.loc[index + 1, 'rt'] + _df.loc[index + 2, 'rt']\n",
    "    else:\n",
    "        indices_to_drop.append(index)\n",
    "\n",
    "# After the loop, drop the rows using the list of indices\n",
    "_df = _df.drop(indices_to_drop)"
   ],
   "metadata": {
    "collapsed": false,
    "pycharm": {
     "name": "#%%\n"
    }
   }
  },
  {
   "cell_type": "code",
   "execution_count": null,
   "outputs": [],
   "source": [
    "_df"
   ],
   "metadata": {
    "collapsed": false,
    "pycharm": {
     "name": "#%%\n"
    }
   }
  },
  {
   "cell_type": "markdown",
   "source": [
    "## Tipo 2"
   ],
   "metadata": {
    "collapsed": false,
    "pycharm": {
     "name": "#%% md\n"
    }
   }
  },
  {
   "cell_type": "code",
   "execution_count": null,
   "outputs": [],
   "source": [
    "_df = df[df['type'] == 'tone_number_task+delay_block+tone_number_task_remaining_before_delay+empty_block']"
   ],
   "metadata": {
    "collapsed": false,
    "pycharm": {
     "name": "#%%\n"
    }
   }
  },
  {
   "cell_type": "code",
   "execution_count": null,
   "outputs": [],
   "source": [
    "indices_to_drop = []\n",
    "\n",
    "for index, row in _df.iterrows():\n",
    "    if row['task'] == 'tone_number_task' and _df.loc[index, 'response'] in ['a', 's'] and _df.loc[index + 3, 'response'] in ['j', 'k']:\n",
    "        _df.loc[index, 'response_1'] = _df.loc[index, 'response']\n",
    "        _df.loc[index, 'rt_1'] = _df.loc[index, 'rt']\n",
    "        _df.loc[index, 'response_2'] = _df.loc[index + 3, 'response']\n",
    "        _df.loc[index, 'rt_2'] = 150 + _df.loc[index + 3, 'rt']\n",
    "    else:\n",
    "        indices_to_drop.append(index)\n",
    "\n",
    "# After the loop, drop the rows using the list of indices\n",
    "_df = _df.drop(indices_to_drop)"
   ],
   "metadata": {
    "collapsed": false,
    "pycharm": {
     "name": "#%%\n"
    }
   }
  },
  {
   "cell_type": "code",
   "execution_count": null,
   "outputs": [],
   "source": [
    "_df"
   ],
   "metadata": {
    "collapsed": false,
    "pycharm": {
     "name": "#%%\n"
    }
   }
  },
  {
   "cell_type": "markdown",
   "source": [
    "## Tipo 3"
   ],
   "metadata": {
    "collapsed": false,
    "pycharm": {
     "name": "#%% md\n"
    }
   }
  },
  {
   "cell_type": "code",
   "execution_count": null,
   "outputs": [],
   "source": [
    "_df = df[df['type'] == 'tone_number_task+tone_number_task_remaining_after_delay+empty_block']"
   ],
   "metadata": {
    "collapsed": false,
    "pycharm": {
     "name": "#%%\n"
    }
   }
  },
  {
   "cell_type": "code",
   "execution_count": null,
   "outputs": [],
   "source": [
    "indices_to_drop = []\n",
    "\n",
    "for index, row in _df.iterrows():\n",
    "    if row['task'] == 'tone_number_task' and _df.loc[index, 'response'] in ['a', 's'] and _df.loc[index + 2, 'response'] in ['j', 'k']:\n",
    "        _df.loc[index, 'response_1'] = _df.loc[index, 'response'] \n",
    "        _df.loc[index, 'rt_1'] = _df.loc[index, 'rt']\n",
    "        _df.loc[index, 'response_2'] = _df.loc[index + 2, 'response']\n",
    "        _df.loc[index, 'rt_2'] = 150 + _df.loc[index + 2, 'rt']\n",
    "    else:\n",
    "        indices_to_drop.append(index)\n",
    "\n",
    "# After the loop, drop the rows using the list of indices\n",
    "_df = _df.drop(indices_to_drop)"
   ],
   "metadata": {
    "collapsed": false,
    "pycharm": {
     "name": "#%%\n"
    }
   }
  },
  {
   "cell_type": "code",
   "execution_count": null,
   "outputs": [],
   "source": [
    "_df"
   ],
   "metadata": {
    "collapsed": false,
    "pycharm": {
     "name": "#%%\n"
    }
   }
  },
  {
   "cell_type": "markdown",
   "source": [
    "## Tipo 4"
   ],
   "metadata": {
    "collapsed": false,
    "pycharm": {
     "name": "#%% md\n"
    }
   }
  },
  {
   "cell_type": "code",
   "execution_count": null,
   "outputs": [],
   "source": [
    "_df = df[df['type'] == 'tone_number_task+delay_block+tone_number_task_remaining_before_delay']"
   ],
   "metadata": {
    "collapsed": false,
    "pycharm": {
     "name": "#%%\n"
    }
   }
  },
  {
   "cell_type": "code",
   "execution_count": null,
   "outputs": [],
   "source": [
    "indices_to_drop = []\n",
    "\n",
    "for index, row in _df.iterrows():\n",
    "    if row['task'] == 'tone_number_task' and _df.loc[index, 'response'] in ['a', 's'] and _df.loc[index + 2, 'response'] in ['j', 'k']:\n",
    "        _df.loc[index, 'response_1'] = _df.loc[index, 'response'] \n",
    "        _df.loc[index, 'rt_1'] = _df.loc[index, 'rt']\n",
    "        _df.loc[index, 'response_2'] = _df.loc[index + 2, 'response']\n",
    "        _df.loc[index, 'rt_2'] = _df.loc[index + 2, 'rt']\n",
    "    else:\n",
    "        indices_to_drop.append(index)\n",
    "\n",
    "# After the loop, drop the rows using the list of indices\n",
    "_df = _df.drop(indices_to_drop)"
   ],
   "metadata": {
    "collapsed": false,
    "pycharm": {
     "name": "#%%\n"
    }
   }
  },
  {
   "cell_type": "code",
   "execution_count": 227,
   "metadata": {},
   "outputs": [],
   "source": [
    "# add new ['response_1','rt_1','response_2','rt_2'] none columns\n",
    "df.loc[:, 'response_1'] = None\n",
    "df.loc[:, 'rt_1'] = None\n",
    "df.loc[:, 'response_2'] = None\n",
    "df.loc[:, 'rt_2'] = None"
   ]
  },
  {
   "cell_type": "markdown",
   "metadata": {},
   "source": [
    "## Tipo 1"
   ]
  },
  {
   "cell_type": "code",
   "execution_count": 230,
   "metadata": {},
   "outputs": [],
   "source": [
    "_df = df[df['type'] == 'tone_number_task+empty_block+empty_block']"
   ]
  },
  {
   "cell_type": "code",
   "execution_count": 232,
   "metadata": {},
   "outputs": [],
   "source": [
    "indices_to_drop = []\n",
    "\n",
    "for index, row in _df.iterrows():\n",
    "    if row['task'] == 'tone_number_task' and _df.loc[index + 1, 'response'] in ['a', 's'] and _df.loc[index + 2, 'response'] in ['j', 'k']:\n",
    "        _df.loc[index, 'response_1'] = _df.loc[index + 1, 'response']\n",
    "        _df.loc[index, 'rt_1'] = _df.loc[index, 'trial_duration'] + _df.loc[index + 1, 'rt']\n",
    "        _df.loc[index, 'response_2'] = _df.loc[index + 2, 'response']\n",
    "        _df.loc[index, 'rt_2'] = 150 + _df.loc[index + 1, 'rt'] + _df.loc[index + 2, 'rt']\n",
    "    else:\n",
    "        indices_to_drop.append(index)\n",
    "\n",
    "# After the loop, drop the rows using the list of indices\n",
    "_df = _df.drop(indices_to_drop)"
   ]
  },
  {
   "cell_type": "code",
   "execution_count": 233,
   "metadata": {},
   "outputs": [
    {
     "data": {
      "text/html": [
       "<div>\n",
       "<style scoped>\n",
       "    .dataframe tbody tr th:only-of-type {\n",
       "        vertical-align: middle;\n",
       "    }\n",
       "\n",
       "    .dataframe tbody tr th {\n",
       "        vertical-align: top;\n",
       "    }\n",
       "\n",
       "    .dataframe thead th {\n",
       "        text-align: right;\n",
       "    }\n",
       "</style>\n",
       "<table border=\"1\" class=\"dataframe\">\n",
       "  <thead>\n",
       "    <tr style=\"text-align: right;\">\n",
       "      <th></th>\n",
       "      <th>block</th>\n",
       "      <th>round</th>\n",
       "      <th>task</th>\n",
       "      <th>trial_duration</th>\n",
       "      <th>delay</th>\n",
       "      <th>audioFile</th>\n",
       "      <th>number</th>\n",
       "      <th>stimulus</th>\n",
       "      <th>response</th>\n",
       "      <th>rt</th>\n",
       "      <th>type</th>\n",
       "      <th>response_1</th>\n",
       "      <th>rt_1</th>\n",
       "      <th>response_2</th>\n",
       "      <th>rt_2</th>\n",
       "    </tr>\n",
       "  </thead>\n",
       "  <tbody>\n",
       "    <tr>\n",
       "      <th>406</th>\n",
       "      <td>0.0</td>\n",
       "      <td>1.0</td>\n",
       "      <td>tone_number_task</td>\n",
       "      <td>150.0</td>\n",
       "      <td>0.0</td>\n",
       "      <td>tones/440hz_short.mp3</td>\n",
       "      <td>68</td>\n",
       "      <td>tones/440hz_short.mp3</td>\n",
       "      <td>NaN</td>\n",
       "      <td>NaN</td>\n",
       "      <td>tone_number_task+empty_block+empty_block</td>\n",
       "      <td>a</td>\n",
       "      <td>1008.0</td>\n",
       "      <td>k</td>\n",
       "      <td>1284.0</td>\n",
       "    </tr>\n",
       "    <tr>\n",
       "      <th>410</th>\n",
       "      <td>0.0</td>\n",
       "      <td>2.0</td>\n",
       "      <td>tone_number_task</td>\n",
       "      <td>150.0</td>\n",
       "      <td>0.0</td>\n",
       "      <td>tones/880hz_short.mp3</td>\n",
       "      <td>67</td>\n",
       "      <td>tones/880hz_short.mp3</td>\n",
       "      <td>NaN</td>\n",
       "      <td>NaN</td>\n",
       "      <td>tone_number_task+empty_block+empty_block</td>\n",
       "      <td>s</td>\n",
       "      <td>912.0</td>\n",
       "      <td>k</td>\n",
       "      <td>1379.0</td>\n",
       "    </tr>\n",
       "    <tr>\n",
       "      <th>414</th>\n",
       "      <td>0.0</td>\n",
       "      <td>3.0</td>\n",
       "      <td>tone_number_task</td>\n",
       "      <td>150.0</td>\n",
       "      <td>0.0</td>\n",
       "      <td>tones/880hz_short.mp3</td>\n",
       "      <td>38</td>\n",
       "      <td>tones/880hz_short.mp3</td>\n",
       "      <td>NaN</td>\n",
       "      <td>NaN</td>\n",
       "      <td>tone_number_task+empty_block+empty_block</td>\n",
       "      <td>s</td>\n",
       "      <td>986.0</td>\n",
       "      <td>j</td>\n",
       "      <td>1164.0</td>\n",
       "    </tr>\n",
       "    <tr>\n",
       "      <th>422</th>\n",
       "      <td>0.0</td>\n",
       "      <td>5.0</td>\n",
       "      <td>tone_number_task</td>\n",
       "      <td>252.5</td>\n",
       "      <td>102.5</td>\n",
       "      <td>tones/880hz_short.mp3</td>\n",
       "      <td>48</td>\n",
       "      <td>tones/880hz_short.mp3</td>\n",
       "      <td>NaN</td>\n",
       "      <td>NaN</td>\n",
       "      <td>tone_number_task+empty_block+empty_block</td>\n",
       "      <td>s</td>\n",
       "      <td>903.5</td>\n",
       "      <td>j</td>\n",
       "      <td>1354.0</td>\n",
       "    </tr>\n",
       "    <tr>\n",
       "      <th>426</th>\n",
       "      <td>0.0</td>\n",
       "      <td>6.0</td>\n",
       "      <td>tone_number_task</td>\n",
       "      <td>252.5</td>\n",
       "      <td>102.5</td>\n",
       "      <td>tones/440hz_short.mp3</td>\n",
       "      <td>53</td>\n",
       "      <td>tones/440hz_short.mp3</td>\n",
       "      <td>NaN</td>\n",
       "      <td>NaN</td>\n",
       "      <td>tone_number_task+empty_block+empty_block</td>\n",
       "      <td>a</td>\n",
       "      <td>753.5</td>\n",
       "      <td>k</td>\n",
       "      <td>908.0</td>\n",
       "    </tr>\n",
       "    <tr>\n",
       "      <th>...</th>\n",
       "      <td>...</td>\n",
       "      <td>...</td>\n",
       "      <td>...</td>\n",
       "      <td>...</td>\n",
       "      <td>...</td>\n",
       "      <td>...</td>\n",
       "      <td>...</td>\n",
       "      <td>...</td>\n",
       "      <td>...</td>\n",
       "      <td>...</td>\n",
       "      <td>...</td>\n",
       "      <td>...</td>\n",
       "      <td>...</td>\n",
       "      <td>...</td>\n",
       "      <td>...</td>\n",
       "    </tr>\n",
       "    <tr>\n",
       "      <th>363</th>\n",
       "      <td>3.0</td>\n",
       "      <td>32.0</td>\n",
       "      <td>tone_number_task</td>\n",
       "      <td>150.0</td>\n",
       "      <td>0.0</td>\n",
       "      <td>tones/880hz_short.mp3</td>\n",
       "      <td>treinta</td>\n",
       "      <td>tones/880hz_short.mp3</td>\n",
       "      <td>NaN</td>\n",
       "      <td>NaN</td>\n",
       "      <td>tone_number_task+empty_block+empty_block</td>\n",
       "      <td>s</td>\n",
       "      <td>916.0</td>\n",
       "      <td>j</td>\n",
       "      <td>1184.0</td>\n",
       "    </tr>\n",
       "    <tr>\n",
       "      <th>367</th>\n",
       "      <td>3.0</td>\n",
       "      <td>33.0</td>\n",
       "      <td>tone_number_task</td>\n",
       "      <td>150.0</td>\n",
       "      <td>0.0</td>\n",
       "      <td>tones/880hz_short.mp3</td>\n",
       "      <td>cincuenta y seis</td>\n",
       "      <td>tones/880hz_short.mp3</td>\n",
       "      <td>NaN</td>\n",
       "      <td>NaN</td>\n",
       "      <td>tone_number_task+empty_block+empty_block</td>\n",
       "      <td>s</td>\n",
       "      <td>994.0</td>\n",
       "      <td>k</td>\n",
       "      <td>1130.0</td>\n",
       "    </tr>\n",
       "    <tr>\n",
       "      <th>371</th>\n",
       "      <td>3.0</td>\n",
       "      <td>34.0</td>\n",
       "      <td>tone_number_task</td>\n",
       "      <td>252.5</td>\n",
       "      <td>102.5</td>\n",
       "      <td>tones/880hz_short.mp3</td>\n",
       "      <td>cincuenta y cuatro</td>\n",
       "      <td>tones/880hz_short.mp3</td>\n",
       "      <td>NaN</td>\n",
       "      <td>NaN</td>\n",
       "      <td>tone_number_task+empty_block+empty_block</td>\n",
       "      <td>s</td>\n",
       "      <td>1086.5</td>\n",
       "      <td>k</td>\n",
       "      <td>1083.0</td>\n",
       "    </tr>\n",
       "    <tr>\n",
       "      <th>385</th>\n",
       "      <td>3.0</td>\n",
       "      <td>37.0</td>\n",
       "      <td>tone_number_task</td>\n",
       "      <td>252.5</td>\n",
       "      <td>102.5</td>\n",
       "      <td>tones/880hz_short.mp3</td>\n",
       "      <td>sesenta y nueve</td>\n",
       "      <td>tones/880hz_short.mp3</td>\n",
       "      <td>NaN</td>\n",
       "      <td>NaN</td>\n",
       "      <td>tone_number_task+empty_block+empty_block</td>\n",
       "      <td>s</td>\n",
       "      <td>825.5</td>\n",
       "      <td>k</td>\n",
       "      <td>823.0</td>\n",
       "    </tr>\n",
       "    <tr>\n",
       "      <th>389</th>\n",
       "      <td>3.0</td>\n",
       "      <td>38.0</td>\n",
       "      <td>tone_number_task</td>\n",
       "      <td>150.0</td>\n",
       "      <td>0.0</td>\n",
       "      <td>tones/880hz_short.mp3</td>\n",
       "      <td>cuarenta y dos</td>\n",
       "      <td>tones/880hz_short.mp3</td>\n",
       "      <td>NaN</td>\n",
       "      <td>NaN</td>\n",
       "      <td>tone_number_task+empty_block+empty_block</td>\n",
       "      <td>s</td>\n",
       "      <td>1166.0</td>\n",
       "      <td>j</td>\n",
       "      <td>1272.0</td>\n",
       "    </tr>\n",
       "  </tbody>\n",
       "</table>\n",
       "<p>69 rows × 15 columns</p>\n",
       "</div>"
      ],
      "text/plain": [
       "     block  round              task  trial_duration  delay  \\\n",
       "406    0.0    1.0  tone_number_task           150.0    0.0   \n",
       "410    0.0    2.0  tone_number_task           150.0    0.0   \n",
       "414    0.0    3.0  tone_number_task           150.0    0.0   \n",
       "422    0.0    5.0  tone_number_task           252.5  102.5   \n",
       "426    0.0    6.0  tone_number_task           252.5  102.5   \n",
       "..     ...    ...               ...             ...    ...   \n",
       "363    3.0   32.0  tone_number_task           150.0    0.0   \n",
       "367    3.0   33.0  tone_number_task           150.0    0.0   \n",
       "371    3.0   34.0  tone_number_task           252.5  102.5   \n",
       "385    3.0   37.0  tone_number_task           252.5  102.5   \n",
       "389    3.0   38.0  tone_number_task           150.0    0.0   \n",
       "\n",
       "                 audioFile              number               stimulus  \\\n",
       "406  tones/440hz_short.mp3                  68  tones/440hz_short.mp3   \n",
       "410  tones/880hz_short.mp3                  67  tones/880hz_short.mp3   \n",
       "414  tones/880hz_short.mp3                  38  tones/880hz_short.mp3   \n",
       "422  tones/880hz_short.mp3                  48  tones/880hz_short.mp3   \n",
       "426  tones/440hz_short.mp3                  53  tones/440hz_short.mp3   \n",
       "..                     ...                 ...                    ...   \n",
       "363  tones/880hz_short.mp3             treinta  tones/880hz_short.mp3   \n",
       "367  tones/880hz_short.mp3    cincuenta y seis  tones/880hz_short.mp3   \n",
       "371  tones/880hz_short.mp3  cincuenta y cuatro  tones/880hz_short.mp3   \n",
       "385  tones/880hz_short.mp3     sesenta y nueve  tones/880hz_short.mp3   \n",
       "389  tones/880hz_short.mp3      cuarenta y dos  tones/880hz_short.mp3   \n",
       "\n",
       "    response  rt                                      type response_1    rt_1  \\\n",
       "406      NaN NaN  tone_number_task+empty_block+empty_block          a  1008.0   \n",
       "410      NaN NaN  tone_number_task+empty_block+empty_block          s   912.0   \n",
       "414      NaN NaN  tone_number_task+empty_block+empty_block          s   986.0   \n",
       "422      NaN NaN  tone_number_task+empty_block+empty_block          s   903.5   \n",
       "426      NaN NaN  tone_number_task+empty_block+empty_block          a   753.5   \n",
       "..       ...  ..                                       ...        ...     ...   \n",
       "363      NaN NaN  tone_number_task+empty_block+empty_block          s   916.0   \n",
       "367      NaN NaN  tone_number_task+empty_block+empty_block          s   994.0   \n",
       "371      NaN NaN  tone_number_task+empty_block+empty_block          s  1086.5   \n",
       "385      NaN NaN  tone_number_task+empty_block+empty_block          s   825.5   \n",
       "389      NaN NaN  tone_number_task+empty_block+empty_block          s  1166.0   \n",
       "\n",
       "    response_2    rt_2  \n",
       "406          k  1284.0  \n",
       "410          k  1379.0  \n",
       "414          j  1164.0  \n",
       "422          j  1354.0  \n",
       "426          k   908.0  \n",
       "..         ...     ...  \n",
       "363          j  1184.0  \n",
       "367          k  1130.0  \n",
       "371          k  1083.0  \n",
       "385          k   823.0  \n",
       "389          j  1272.0  \n",
       "\n",
       "[69 rows x 15 columns]"
      ]
     },
     "execution_count": 233,
     "metadata": {},
     "output_type": "execute_result"
    }
   ],
   "source": [
    "_df"
   ]
  },
  {
   "cell_type": "markdown",
   "metadata": {},
   "source": [
    "## Tipo 2"
   ]
  },
  {
   "cell_type": "code",
   "execution_count": 234,
   "metadata": {},
   "outputs": [],
   "source": [
    "_df = df[df['type'] == 'tone_number_task+delay_block+tone_number_task_remaining_before_delay+empty_block']"
   ]
  },
  {
   "cell_type": "code",
   "execution_count": 235,
   "metadata": {},
   "outputs": [],
   "source": [
    "indices_to_drop = []\n",
    "\n",
    "for index, row in _df.iterrows():\n",
    "    if row['task'] == 'tone_number_task' and _df.loc[index, 'response'] in ['a', 's'] and _df.loc[index + 3, 'response'] in ['j', 'k']:\n",
    "        _df.loc[index, 'response_1'] = _df.loc[index, 'response']\n",
    "        _df.loc[index, 'rt_1'] = _df.loc[index, 'rt']\n",
    "        _df.loc[index, 'response_2'] = _df.loc[index + 3, 'response']\n",
    "        _df.loc[index, 'rt_2'] = 150 + _df.loc[index + 3, 'rt']\n",
    "    else:\n",
    "        indices_to_drop.append(index)\n",
    "\n",
    "# After the loop, drop the rows using the list of indices\n",
    "_df = _df.drop(indices_to_drop)"
   ]
  },
  {
   "cell_type": "code",
   "execution_count": 236,
   "metadata": {},
   "outputs": [
    {
     "data": {
      "text/html": [
       "<div>\n",
       "<style scoped>\n",
       "    .dataframe tbody tr th:only-of-type {\n",
       "        vertical-align: middle;\n",
       "    }\n",
       "\n",
       "    .dataframe tbody tr th {\n",
       "        vertical-align: top;\n",
       "    }\n",
       "\n",
       "    .dataframe thead th {\n",
       "        text-align: right;\n",
       "    }\n",
       "</style>\n",
       "<table border=\"1\" class=\"dataframe\">\n",
       "  <thead>\n",
       "    <tr style=\"text-align: right;\">\n",
       "      <th></th>\n",
       "      <th>block</th>\n",
       "      <th>round</th>\n",
       "      <th>task</th>\n",
       "      <th>trial_duration</th>\n",
       "      <th>delay</th>\n",
       "      <th>audioFile</th>\n",
       "      <th>number</th>\n",
       "      <th>stimulus</th>\n",
       "      <th>response</th>\n",
       "      <th>rt</th>\n",
       "      <th>type</th>\n",
       "      <th>response_1</th>\n",
       "      <th>rt_1</th>\n",
       "      <th>response_2</th>\n",
       "      <th>rt_2</th>\n",
       "    </tr>\n",
       "  </thead>\n",
       "  <tbody>\n",
       "    <tr>\n",
       "      <th>401</th>\n",
       "      <td>0.0</td>\n",
       "      <td>0.0</td>\n",
       "      <td>tone_number_task</td>\n",
       "      <td>1175.0</td>\n",
       "      <td>1025.0</td>\n",
       "      <td>tones/880hz_short.mp3</td>\n",
       "      <td>56</td>\n",
       "      <td>tones/880hz_short.mp3</td>\n",
       "      <td>s</td>\n",
       "      <td>810.0</td>\n",
       "      <td>tone_number_task+delay_block+tone_number_task_...</td>\n",
       "      <td>s</td>\n",
       "      <td>810.0</td>\n",
       "      <td>k</td>\n",
       "      <td>1174.0</td>\n",
       "    </tr>\n",
       "    <tr>\n",
       "      <th>430</th>\n",
       "      <td>0.0</td>\n",
       "      <td>7.0</td>\n",
       "      <td>tone_number_task</td>\n",
       "      <td>1175.0</td>\n",
       "      <td>1025.0</td>\n",
       "      <td>tones/880hz_short.mp3</td>\n",
       "      <td>43</td>\n",
       "      <td>tones/880hz_short.mp3</td>\n",
       "      <td>s</td>\n",
       "      <td>679.0</td>\n",
       "      <td>tone_number_task+delay_block+tone_number_task_...</td>\n",
       "      <td>s</td>\n",
       "      <td>679.0</td>\n",
       "      <td>j</td>\n",
       "      <td>404.0</td>\n",
       "    </tr>\n",
       "    <tr>\n",
       "      <th>439</th>\n",
       "      <td>0.0</td>\n",
       "      <td>9.0</td>\n",
       "      <td>tone_number_task</td>\n",
       "      <td>1142.5</td>\n",
       "      <td>992.5</td>\n",
       "      <td>tones/440hz_short.mp3</td>\n",
       "      <td>39</td>\n",
       "      <td>tones/440hz_short.mp3</td>\n",
       "      <td>a</td>\n",
       "      <td>700.0</td>\n",
       "      <td>tone_number_task+delay_block+tone_number_task_...</td>\n",
       "      <td>a</td>\n",
       "      <td>700.0</td>\n",
       "      <td>j</td>\n",
       "      <td>391.0</td>\n",
       "    </tr>\n",
       "    <tr>\n",
       "      <th>456</th>\n",
       "      <td>0.0</td>\n",
       "      <td>13.0</td>\n",
       "      <td>tone_number_task</td>\n",
       "      <td>1175.0</td>\n",
       "      <td>1025.0</td>\n",
       "      <td>tones/440hz_short.mp3</td>\n",
       "      <td>50</td>\n",
       "      <td>tones/440hz_short.mp3</td>\n",
       "      <td>a</td>\n",
       "      <td>691.0</td>\n",
       "      <td>tone_number_task+delay_block+tone_number_task_...</td>\n",
       "      <td>a</td>\n",
       "      <td>691.0</td>\n",
       "      <td>k</td>\n",
       "      <td>414.0</td>\n",
       "    </tr>\n",
       "    <tr>\n",
       "      <th>461</th>\n",
       "      <td>0.0</td>\n",
       "      <td>14.0</td>\n",
       "      <td>tone_number_task</td>\n",
       "      <td>1142.5</td>\n",
       "      <td>992.5</td>\n",
       "      <td>tones/440hz_short.mp3</td>\n",
       "      <td>25</td>\n",
       "      <td>tones/440hz_short.mp3</td>\n",
       "      <td>a</td>\n",
       "      <td>700.0</td>\n",
       "      <td>tone_number_task+delay_block+tone_number_task_...</td>\n",
       "      <td>a</td>\n",
       "      <td>700.0</td>\n",
       "      <td>j</td>\n",
       "      <td>434.0</td>\n",
       "    </tr>\n",
       "    <tr>\n",
       "      <th>...</th>\n",
       "      <td>...</td>\n",
       "      <td>...</td>\n",
       "      <td>...</td>\n",
       "      <td>...</td>\n",
       "      <td>...</td>\n",
       "      <td>...</td>\n",
       "      <td>...</td>\n",
       "      <td>...</td>\n",
       "      <td>...</td>\n",
       "      <td>...</td>\n",
       "      <td>...</td>\n",
       "      <td>...</td>\n",
       "      <td>...</td>\n",
       "      <td>...</td>\n",
       "      <td>...</td>\n",
       "    </tr>\n",
       "    <tr>\n",
       "      <th>345</th>\n",
       "      <td>3.0</td>\n",
       "      <td>28.0</td>\n",
       "      <td>tone_number_task</td>\n",
       "      <td>1175.0</td>\n",
       "      <td>1025.0</td>\n",
       "      <td>tones/440hz_short.mp3</td>\n",
       "      <td>cincuenta y siete</td>\n",
       "      <td>tones/440hz_short.mp3</td>\n",
       "      <td>a</td>\n",
       "      <td>572.0</td>\n",
       "      <td>tone_number_task+delay_block+tone_number_task_...</td>\n",
       "      <td>a</td>\n",
       "      <td>572.0</td>\n",
       "      <td>k</td>\n",
       "      <td>489.0</td>\n",
       "    </tr>\n",
       "    <tr>\n",
       "      <th>358</th>\n",
       "      <td>3.0</td>\n",
       "      <td>31.0</td>\n",
       "      <td>tone_number_task</td>\n",
       "      <td>1175.0</td>\n",
       "      <td>1025.0</td>\n",
       "      <td>tones/880hz_short.mp3</td>\n",
       "      <td>veinticuatro</td>\n",
       "      <td>tones/880hz_short.mp3</td>\n",
       "      <td>s</td>\n",
       "      <td>540.0</td>\n",
       "      <td>tone_number_task+delay_block+tone_number_task_...</td>\n",
       "      <td>s</td>\n",
       "      <td>540.0</td>\n",
       "      <td>j</td>\n",
       "      <td>481.0</td>\n",
       "    </tr>\n",
       "    <tr>\n",
       "      <th>375</th>\n",
       "      <td>3.0</td>\n",
       "      <td>35.0</td>\n",
       "      <td>tone_number_task</td>\n",
       "      <td>1142.5</td>\n",
       "      <td>992.5</td>\n",
       "      <td>tones/440hz_short.mp3</td>\n",
       "      <td>treinta y siete</td>\n",
       "      <td>tones/440hz_short.mp3</td>\n",
       "      <td>a</td>\n",
       "      <td>670.0</td>\n",
       "      <td>tone_number_task+delay_block+tone_number_task_...</td>\n",
       "      <td>a</td>\n",
       "      <td>670.0</td>\n",
       "      <td>j</td>\n",
       "      <td>573.0</td>\n",
       "    </tr>\n",
       "    <tr>\n",
       "      <th>380</th>\n",
       "      <td>3.0</td>\n",
       "      <td>36.0</td>\n",
       "      <td>tone_number_task</td>\n",
       "      <td>1175.0</td>\n",
       "      <td>1025.0</td>\n",
       "      <td>tones/440hz_short.mp3</td>\n",
       "      <td>cuarenta y tres</td>\n",
       "      <td>tones/440hz_short.mp3</td>\n",
       "      <td>a</td>\n",
       "      <td>830.0</td>\n",
       "      <td>tone_number_task+delay_block+tone_number_task_...</td>\n",
       "      <td>a</td>\n",
       "      <td>830.0</td>\n",
       "      <td>j</td>\n",
       "      <td>1062.0</td>\n",
       "    </tr>\n",
       "    <tr>\n",
       "      <th>393</th>\n",
       "      <td>3.0</td>\n",
       "      <td>39.0</td>\n",
       "      <td>tone_number_task</td>\n",
       "      <td>1142.5</td>\n",
       "      <td>992.5</td>\n",
       "      <td>tones/880hz_short.mp3</td>\n",
       "      <td>cincuenta y cuatro</td>\n",
       "      <td>tones/880hz_short.mp3</td>\n",
       "      <td>s</td>\n",
       "      <td>610.0</td>\n",
       "      <td>tone_number_task+delay_block+tone_number_task_...</td>\n",
       "      <td>s</td>\n",
       "      <td>610.0</td>\n",
       "      <td>k</td>\n",
       "      <td>625.0</td>\n",
       "    </tr>\n",
       "  </tbody>\n",
       "</table>\n",
       "<p>71 rows × 15 columns</p>\n",
       "</div>"
      ],
      "text/plain": [
       "     block  round              task  trial_duration   delay  \\\n",
       "401    0.0    0.0  tone_number_task          1175.0  1025.0   \n",
       "430    0.0    7.0  tone_number_task          1175.0  1025.0   \n",
       "439    0.0    9.0  tone_number_task          1142.5   992.5   \n",
       "456    0.0   13.0  tone_number_task          1175.0  1025.0   \n",
       "461    0.0   14.0  tone_number_task          1142.5   992.5   \n",
       "..     ...    ...               ...             ...     ...   \n",
       "345    3.0   28.0  tone_number_task          1175.0  1025.0   \n",
       "358    3.0   31.0  tone_number_task          1175.0  1025.0   \n",
       "375    3.0   35.0  tone_number_task          1142.5   992.5   \n",
       "380    3.0   36.0  tone_number_task          1175.0  1025.0   \n",
       "393    3.0   39.0  tone_number_task          1142.5   992.5   \n",
       "\n",
       "                 audioFile              number               stimulus  \\\n",
       "401  tones/880hz_short.mp3                  56  tones/880hz_short.mp3   \n",
       "430  tones/880hz_short.mp3                  43  tones/880hz_short.mp3   \n",
       "439  tones/440hz_short.mp3                  39  tones/440hz_short.mp3   \n",
       "456  tones/440hz_short.mp3                  50  tones/440hz_short.mp3   \n",
       "461  tones/440hz_short.mp3                  25  tones/440hz_short.mp3   \n",
       "..                     ...                 ...                    ...   \n",
       "345  tones/440hz_short.mp3   cincuenta y siete  tones/440hz_short.mp3   \n",
       "358  tones/880hz_short.mp3        veinticuatro  tones/880hz_short.mp3   \n",
       "375  tones/440hz_short.mp3     treinta y siete  tones/440hz_short.mp3   \n",
       "380  tones/440hz_short.mp3     cuarenta y tres  tones/440hz_short.mp3   \n",
       "393  tones/880hz_short.mp3  cincuenta y cuatro  tones/880hz_short.mp3   \n",
       "\n",
       "    response     rt                                               type  \\\n",
       "401        s  810.0  tone_number_task+delay_block+tone_number_task_...   \n",
       "430        s  679.0  tone_number_task+delay_block+tone_number_task_...   \n",
       "439        a  700.0  tone_number_task+delay_block+tone_number_task_...   \n",
       "456        a  691.0  tone_number_task+delay_block+tone_number_task_...   \n",
       "461        a  700.0  tone_number_task+delay_block+tone_number_task_...   \n",
       "..       ...    ...                                                ...   \n",
       "345        a  572.0  tone_number_task+delay_block+tone_number_task_...   \n",
       "358        s  540.0  tone_number_task+delay_block+tone_number_task_...   \n",
       "375        a  670.0  tone_number_task+delay_block+tone_number_task_...   \n",
       "380        a  830.0  tone_number_task+delay_block+tone_number_task_...   \n",
       "393        s  610.0  tone_number_task+delay_block+tone_number_task_...   \n",
       "\n",
       "    response_1   rt_1 response_2    rt_2  \n",
       "401          s  810.0          k  1174.0  \n",
       "430          s  679.0          j   404.0  \n",
       "439          a  700.0          j   391.0  \n",
       "456          a  691.0          k   414.0  \n",
       "461          a  700.0          j   434.0  \n",
       "..         ...    ...        ...     ...  \n",
       "345          a  572.0          k   489.0  \n",
       "358          s  540.0          j   481.0  \n",
       "375          a  670.0          j   573.0  \n",
       "380          a  830.0          j  1062.0  \n",
       "393          s  610.0          k   625.0  \n",
       "\n",
       "[71 rows x 15 columns]"
      ]
     },
     "execution_count": 236,
     "metadata": {},
     "output_type": "execute_result"
    }
   ],
   "source": [
    "_df"
   ]
  },
  {
   "cell_type": "markdown",
   "metadata": {},
   "source": [
    "## Tipo 3"
   ]
  },
  {
   "cell_type": "code",
   "execution_count": 237,
   "metadata": {},
   "outputs": [],
   "source": [
    "_df = df[df['type'] == 'tone_number_task+tone_number_task_remaining_after_delay+empty_block']"
   ]
  },
  {
   "cell_type": "code",
   "execution_count": 238,
   "metadata": {},
   "outputs": [],
   "source": [
    "indices_to_drop = []\n",
    "\n",
    "for index, row in _df.iterrows():\n",
    "    if row['task'] == 'tone_number_task' and _df.loc[index, 'response'] in ['a', 's'] and _df.loc[index + 2, 'response'] in ['j', 'k']:\n",
    "        _df.loc[index, 'response_1'] = _df.loc[index, 'response'] \n",
    "        _df.loc[index, 'rt_1'] = _df.loc[index, 'rt']\n",
    "        _df.loc[index, 'response_2'] = _df.loc[index + 2, 'response']\n",
    "        _df.loc[index, 'rt_2'] = 150 + _df.loc[index + 2, 'rt']\n",
    "    else:\n",
    "        indices_to_drop.append(index)\n",
    "\n",
    "# After the loop, drop the rows using the list of indices\n",
    "_df = _df.drop(indices_to_drop)"
   ]
  },
  {
   "cell_type": "code",
   "execution_count": 239,
   "metadata": {},
   "outputs": [
    {
     "data": {
      "text/html": [
       "<div>\n",
       "<style scoped>\n",
       "    .dataframe tbody tr th:only-of-type {\n",
       "        vertical-align: middle;\n",
       "    }\n",
       "\n",
       "    .dataframe tbody tr th {\n",
       "        vertical-align: top;\n",
       "    }\n",
       "\n",
       "    .dataframe thead th {\n",
       "        text-align: right;\n",
       "    }\n",
       "</style>\n",
       "<table border=\"1\" class=\"dataframe\">\n",
       "  <thead>\n",
       "    <tr style=\"text-align: right;\">\n",
       "      <th></th>\n",
       "      <th>block</th>\n",
       "      <th>round</th>\n",
       "      <th>task</th>\n",
       "      <th>trial_duration</th>\n",
       "      <th>delay</th>\n",
       "      <th>audioFile</th>\n",
       "      <th>number</th>\n",
       "      <th>stimulus</th>\n",
       "      <th>response</th>\n",
       "      <th>rt</th>\n",
       "      <th>type</th>\n",
       "      <th>response_1</th>\n",
       "      <th>rt_1</th>\n",
       "      <th>response_2</th>\n",
       "      <th>rt_2</th>\n",
       "    </tr>\n",
       "  </thead>\n",
       "  <tbody>\n",
       "    <tr>\n",
       "      <th>418</th>\n",
       "      <td>0.0</td>\n",
       "      <td>4.0</td>\n",
       "      <td>tone_number_task</td>\n",
       "      <td>1142.5</td>\n",
       "      <td>992.5</td>\n",
       "      <td>tones/880hz_short.mp3</td>\n",
       "      <td>56</td>\n",
       "      <td>tones/880hz_short.mp3</td>\n",
       "      <td>s</td>\n",
       "      <td>1051.0</td>\n",
       "      <td>tone_number_task+tone_number_task_remaining_af...</td>\n",
       "      <td>s</td>\n",
       "      <td>1051.0</td>\n",
       "      <td>k</td>\n",
       "      <td>991.0</td>\n",
       "    </tr>\n",
       "    <tr>\n",
       "      <th>699</th>\n",
       "      <td>1.0</td>\n",
       "      <td>26.0</td>\n",
       "      <td>tone_number_task</td>\n",
       "      <td>1142.5</td>\n",
       "      <td>992.5</td>\n",
       "      <td>tones/440hz_short.mp3</td>\n",
       "      <td>68</td>\n",
       "      <td>tones/440hz_short.mp3</td>\n",
       "      <td>a</td>\n",
       "      <td>1030.0</td>\n",
       "      <td>tone_number_task+tone_number_task_remaining_af...</td>\n",
       "      <td>a</td>\n",
       "      <td>1030.0</td>\n",
       "      <td>k</td>\n",
       "      <td>555.0</td>\n",
       "    </tr>\n",
       "    <tr>\n",
       "      <th>193</th>\n",
       "      <td>2.0</td>\n",
       "      <td>35.0</td>\n",
       "      <td>tone_number_task</td>\n",
       "      <td>1175.0</td>\n",
       "      <td>1025.0</td>\n",
       "      <td>tones/440hz_short.mp3</td>\n",
       "      <td>treinta</td>\n",
       "      <td>tones/440hz_short.mp3</td>\n",
       "      <td>a</td>\n",
       "      <td>1071.0</td>\n",
       "      <td>tone_number_task+tone_number_task_remaining_af...</td>\n",
       "      <td>a</td>\n",
       "      <td>1071.0</td>\n",
       "      <td>k</td>\n",
       "      <td>657.0</td>\n",
       "    </tr>\n",
       "  </tbody>\n",
       "</table>\n",
       "</div>"
      ],
      "text/plain": [
       "     block  round              task  trial_duration   delay  \\\n",
       "418    0.0    4.0  tone_number_task          1142.5   992.5   \n",
       "699    1.0   26.0  tone_number_task          1142.5   992.5   \n",
       "193    2.0   35.0  tone_number_task          1175.0  1025.0   \n",
       "\n",
       "                 audioFile   number               stimulus response      rt  \\\n",
       "418  tones/880hz_short.mp3       56  tones/880hz_short.mp3        s  1051.0   \n",
       "699  tones/440hz_short.mp3       68  tones/440hz_short.mp3        a  1030.0   \n",
       "193  tones/440hz_short.mp3  treinta  tones/440hz_short.mp3        a  1071.0   \n",
       "\n",
       "                                                  type response_1    rt_1  \\\n",
       "418  tone_number_task+tone_number_task_remaining_af...          s  1051.0   \n",
       "699  tone_number_task+tone_number_task_remaining_af...          a  1030.0   \n",
       "193  tone_number_task+tone_number_task_remaining_af...          a  1071.0   \n",
       "\n",
       "    response_2   rt_2  \n",
       "418          k  991.0  \n",
       "699          k  555.0  \n",
       "193          k  657.0  "
      ]
     },
     "execution_count": 239,
     "metadata": {},
     "output_type": "execute_result"
    }
   ],
   "source": [
    "_df"
   ]
  },
  {
   "cell_type": "markdown",
   "metadata": {},
   "source": [
    "## Tipo 4"
   ]
  },
  {
   "cell_type": "code",
   "execution_count": 240,
   "metadata": {},
   "outputs": [],
   "source": [
    "_df = df[df['type'] == 'tone_number_task+delay_block+tone_number_task_remaining_before_delay']"
   ]
  },
  {
   "cell_type": "code",
   "execution_count": 241,
   "metadata": {},
   "outputs": [],
   "source": [
    "indices_to_drop = []\n",
    "\n",
    "for index, row in _df.iterrows():\n",
    "    if row['task'] == 'tone_number_task' and _df.loc[index, 'response'] in ['a', 's'] and _df.loc[index + 2, 'response'] in ['j', 'k']:\n",
    "        _df.loc[index, 'response_1'] = _df.loc[index, 'response'] \n",
    "        _df.loc[index, 'rt_1'] = _df.loc[index, 'rt']\n",
    "        _df.loc[index, 'response_2'] = _df.loc[index + 2, 'response']\n",
    "        _df.loc[index, 'rt_2'] = _df.loc[index + 2, 'rt']\n",
    "    else:\n",
    "        indices_to_drop.append(index)\n",
    "\n",
    "# After the loop, drop the rows using the list of indices\n",
    "_df = _df.drop(indices_to_drop)"
   ]
  },
  {
   "cell_type": "markdown",
   "metadata": {
    "id": "VIhLKwW2dYXN",
    "pycharm": {
     "name": "#%% md\n"
    }
   },
   "source": [
    "### Análisis Respuestas Correctas / Incorrectas\n",
    "Útil pa"
   ]
  },
  {
   "cell_type": "code",
   "execution_count": null,
   "metadata": {
    "id": "OMm1RiS4dYXN",
    "pycharm": {
     "name": "#%%\n"
    }
   },
   "outputs": [],
   "source": [
    "def find_first_response(responses):\n",
    "    for r in responses:\n",
    "        if type(r) == str:\n",
    "            return r\n",
    "    return None\n",
    "\n",
    "def find_second_response(responses):\n",
    "    found_first = False\n",
    "    for r in responses:\n",
    "        if type(r) == str:\n",
    "            if found_first:\n",
    "                return r\n",
    "            else:\n",
    "                found_first = True\n",
    "    return None"
   ]
  },
  {
   "cell_type": "code",
   "execution_count": null,
   "metadata": {
    "id": "Cmk_cZYLdYXN",
    "pycharm": {
     "name": "#%%\n"
    }
   },
   "outputs": [],
   "source": [
    "def get_number_of_round(rows_of_round):\n",
    "    return rows_of_round.iloc[0]['number']\n",
    "\n",
    "def get_audio_of_round(rows_of_round):\n",
    "    return rows_of_round.iloc[0]['audioFile']"
   ]
  },
  {
   "cell_type": "code",
   "execution_count": null,
   "metadata": {
    "id": "2WW0fvaSdYXN",
    "pycharm": {
     "name": "#%%\n"
    }
   },
   "outputs": [],
   "source": [
    "def audio_response_matches(audio_response, audio_stimulus):\n",
    "    return (audio_response == 'a' and audio_stimulus == 'tones/440hz_short.mp3') or (audio_response == 's' and audio_stimulus == 'tones/880hz_short.mp3')\n",
    "\n",
    "def number_response_matches(number_response, number_stimulus):\n",
    "    try:\n",
    "        number_stimulus = int(number_stimulus)\n",
    "    except ValueError:\n",
    "        number_stimulus = words_to_numbers[number_stimulus]\n",
    "\n",
    "    return (number_response == 'j' and number_stimulus < 45) or (number_response == 'k' and number_stimulus > 45)\n",
    "\n",
    "\n",
    "def responses_match_with_stimulus(audio_response, number_response, audio, number):\n",
    "    audio = audio_response_matches(audio_response, audio)\n",
    "    number = number_response_matches(number_response, number)\n",
    "    return audio and number"
   ]
  },
  {
   "cell_type": "code",
   "execution_count": null,
   "metadata": {
    "id": "VsuD2gvpdYXO",
    "pycharm": {
     "name": "#%%\n"
    }
   },
   "outputs": [],
   "source": [
    "def responded_correcty_in_block_and_round(df, block, round):\n",
    "    rows_of_that_round = df[(df['block'] == block) & (df['round'] == round)]\n",
    "    number = get_number_of_round(rows_of_that_round)\n",
    "    audio = get_audio_of_round(rows_of_that_round)\n",
    "    responses = []\n",
    "    for row in rows_of_that_round.itertuples(index=False):\n",
    "        responses.append(row.response)\n",
    "\n",
    "    audio_response = find_first_response(responses)\n",
    "    number_response = find_second_response(responses)\n",
    "    if audio_response == None or number_response == None:\n",
    "        return False\n",
    "\n",
    "    return responses_match_with_stimulus(audio_response, number_response, audio, number)"
   ]
  },
  {
   "cell_type": "code",
   "execution_count": null,
   "metadata": {
    "id": "A3yoRmPqdYXO",
    "pycharm": {
     "name": "#%%\n"
    }
   },
   "outputs": [],
   "source": [
    "def responses_results_for_df(df):\n",
    "    \"\"\"\n",
    "    Retorna un arreglo de arreglos de booleanos, indicando para cada muestra si respondieron bien a ambos estímulos o no.\n",
    "    El primer índice del arreglo que se retorna indica el bloque [0-3] y el segundo el número de ronda de ese bloque [0-39]\n",
    "    \"\"\"\n",
    "    responded_correctly = [[None for _ in range(40)] for _ in range(4)]\n",
    "    for block_id in range(0, 4):\n",
    "        for round_id in range(0, 40):\n",
    "            responded_correctly[block_id][round_id] = responded_correcty_in_block_and_round(df, block_id, round_id)\n",
    "    return responded_correctly"
   ]
  },
  {
   "cell_type": "code",
   "execution_count": null,
   "metadata": {
    "id": "T9SfQ2KxdYXO",
    "pycharm": {
     "name": "#%%\n"
    }
   },
   "outputs": [],
   "source": [
    "df_responses = responses_results_for_df(df)"
   ]
  },
  {
   "cell_type": "code",
   "execution_count": null,
   "metadata": {
    "id": "T7irusD2dYXO",
    "pycharm": {
     "name": "#%%\n"
    }
   },
   "outputs": [],
   "source": [
    "# Calculate the ratio of True values\n",
    "total_elements = 4 * 40\n",
    "total_true = sum(row.count(True) for row in df_responses)\n",
    "\n",
    "ratio = total_true / total_elements\n",
    "\n",
    "# Print the ratio\n",
    "print(total_elements)\n",
    "print(total_true)\n",
    "print(f\"Ratio: {ratio:.2%}\")"
   ]
  },
  {
   "cell_type": "code",
   "execution_count": null,
   "metadata": {
    "id": "Ux-y58tRdYXO",
    "pycharm": {
     "name": "#%%\n"
    }
   },
   "outputs": [],
   "source": [
    "# Las rondas que corresponden a esas 10 respuestas incorrectas habría que sacarlas de la df.\n",
    "# Podemos saber cuáles son encontrando los índices de los valores que son False en df_responses."
   ]
  },
  {
   "cell_type": "markdown",
   "metadata": {
    "id": "BMxztP0vdYXO",
    "pycharm": {
     "name": "#%% md\n"
    }
   },
   "source": [
    "###  Análisis Tiempos de Respuesta\n",
    "Acordarse primero de filtrar (eliminar) todos los que dieron false en responses_results_for_df.\n",
    "\n",
    "Además, falta ver qué tipo de estímulo es el número (dígito o palabra). Eso se puede ver separando los bloques."
   ]
  },
  {
   "cell_type": "code",
   "execution_count": null,
   "metadata": {
    "id": "HN4Xgtq2dYXO",
    "pycharm": {
     "name": "#%%\n"
    }
   },
   "outputs": [],
   "source": [
    "# Sabemos que tenemos 4 bloques, de 40 rondas cada uno.\n",
    "\n",
    "# Cada una de esas rondas puede tener 3 ó 4 tareas. ¿Pueden tener 2 también? Creo que sí.\n",
    "# Fijarse eso por las dudas con groupby(['block', 'round']).size().value_counts()."
   ]
  },
  {
   "cell_type": "code",
   "execution_count": null,
   "metadata": {
    "id": "IeF-k_PSdYXP",
    "pycharm": {
     "name": "#%%\n"
    }
   },
   "outputs": [],
   "source": [
    "def get_delay_of_round(rows_of_round):\n",
    "    return rows_of_round.iloc[0]['delay']"
   ]
  },
  {
   "cell_type": "code",
   "execution_count": null,
   "metadata": {
    "id": "FRfCw2oXdYXP",
    "pycharm": {
     "name": "#%%\n"
    }
   },
   "outputs": [],
   "source": [
    "def get_responses_time_of_block_and_round(df, block, round):\n",
    "\n",
    "    response_time_audio, response_time_number = None, None\n",
    "    first_task, second_task, third_task, fourth_task = None, None, None, None\n",
    "\n",
    "    rows_of_that_round = df[(df['block'] == block) & (df['round'] == round)]\n",
    "\n",
    "    # Si esas rondas fueron descartadas por respuestas incorrectas, no hay nada que hacer.\n",
    "    if rows_of_that_round.empty:\n",
    "        return None, None\n",
    "\n",
    "    delay = get_delay_of_round(rows_of_that_round)\n",
    "    first_task = rows_of_that_round.iloc[0]\n",
    "    second_task = rows_of_that_round.iloc[1]\n",
    "    third_task = rows_of_that_round.iloc[2]\n",
    "    if len(rows_of_that_round) > 3:\n",
    "        fourth_task = rows_of_that_round.iloc[3]\n",
    "\n",
    "    if not math.isnan(first_task.rt):\n",
    "        # respondimos durante la tone_number_task\n",
    "        rt_tone_number_task = first_task.rt\n",
    "        response_time_audio = rt_tone_number_task\n",
    "        if second_task.task == 'delay_block':\n",
    "            # entramos a delay->tone_number_task_remaining_before_delay (second y third tasks)\n",
    "            if not math.isnan(third_task.rt):\n",
    "                response_time_number = third_task.rt\n",
    "            else:\n",
    "                # no respondimos en remaining_before_delay, tenemos un empty block\n",
    "                trial_duration_remaining_before_delay = 150.0 # el trial_duration de remaining_before_delay es siempre igual.\n",
    "                response_time_number = fourth_task.rt + trial_duration_remaining_before_delay\n",
    "        else:\n",
    "            # second_task es 'remaining after delay'\n",
    "            if not math.isnan(second_task.rt):\n",
    "                response_time_number = second_task.rt + rt_tone_number_task - delay\n",
    "            else: # vamos al empty block\n",
    "                # no hace falta ver el trial_duration de la remaining_after_delay, porque ya tenemos el trial_duration de la tone_number_task:\n",
    "                # tone_number_task.rt + remaining_after_delay.trial_duration = tone_number_task.trial_duration (ESTO SE CUMPLE SIEMPRE PORQUE ASÍ LO DEFINIMOS)\n",
    "                response_time_number = third_task.rt + first_task.trial_duration - delay\n",
    "    else:\n",
    "        # no respondimos en la tone_number_task, tenemos dos empty blocks\n",
    "        response_time_audio = second_task.rt + first_task.trial_duration\n",
    "        response_time_number = third_task.rt + second_task.rt + first_task.trial_duration - delay\n",
    "\n",
    "\n",
    "    return response_time_audio, response_time_number"
   ]
  },
  {
   "cell_type": "code",
   "execution_count": null,
   "metadata": {
    "id": "_hpf7DuLdYXP",
    "pycharm": {
     "name": "#%%\n"
    }
   },
   "outputs": [],
   "source": [
    "def response_times_for_df(df):\n",
    "    \"\"\"\n",
    "    Retorna dos arreglos de arreglos de floats, indicando para cada ronda cuánto tardaron en responder a cada estímulo.\n",
    "    El primer índice del arreglo que se retorna indica el bloque [0-3] y el segundo el número de ronda de ese bloque [0-39].\n",
    "    \"\"\"\n",
    "    audio_response_times = [[None for _ in range(40)] for _ in range(4)]\n",
    "    number_response_times = [[None for _ in range(40)] for _ in range(4)]\n",
    "    for block_id in range(0, 4):\n",
    "        for round_id in range(0, 40):\n",
    "            audio_time, number_time = get_responses_time_of_block_and_round(df, block_id, round_id)\n",
    "            audio_response_times[block_id][round_id] = audio_time\n",
    "            number_response_times[block_id][round_id] = number_time\n",
    "    return audio_response_times, number_response_times"
   ]
  },
  {
   "cell_type": "code",
   "execution_count": null,
   "metadata": {
    "id": "IHhj-RAEdYXP",
    "pycharm": {
     "name": "#%%\n"
    }
   },
   "outputs": [],
   "source": [
    "df_audio_rts, df_number_rts = response_times_for_df(df)\n",
    "df_audio_rts_flat = [rt for block in df_audio_rts for rt in block]\n",
    "df_number_rts_flat = [rt for block in df_number_rts for rt in block]"
   ]
  },
  {
   "cell_type": "code",
   "execution_count": null,
   "metadata": {
    "id": "VQFDiWpFdYXP",
    "pycharm": {
     "name": "#%%\n"
    }
   },
   "outputs": [],
   "source": [
    "# mean of a list of floats\n",
    "def mean(lst):\n",
    "    return sum(lst) / len(lst)\n",
    "\n",
    "# mean of a list of floats, ignoring nan values. with only 2 decimal places.\n",
    "def mean_ignore_nan(lst):\n",
    "    lst_without_nans = [x for x in lst if not math.isnan(x)]\n",
    "    return round(mean(lst_without_nans), 2)"
   ]
  },
  {
   "cell_type": "code",
   "execution_count": null,
   "metadata": {
    "id": "RDyl-w3RdYXP",
    "pycharm": {
     "name": "#%%\n"
    }
   },
   "outputs": [],
   "source": [
    "print(mean_ignore_nan(df_audio_rts_flat))\n",
    "print(mean_ignore_nan(df_number_rts_flat))"
   ]
  },
  {
   "cell_type": "markdown",
   "metadata": {
    "id": "gc4_4rhIdYXS",
    "pycharm": {
     "name": "#%% md\n"
    }
   },
   "source": [
    "¿No es raro que tarde casi lo mismo? Revisar bien el cálculo de los response times."
   ]
  }
 ],
 "metadata": {
  "colab": {
   "provenance": []
  },
  "kernelspec": {
   "display_name": "Python 3",
   "language": "python",
   "name": "python3"
  },
  "language_info": {
   "codemirror_mode": {
    "name": "ipython",
    "version": 3
   },
   "file_extension": ".py",
   "mimetype": "text/x-python",
   "name": "python",
   "nbconvert_exporter": "python",
   "pygments_lexer": "ipython3",
   "version": "3.9.17"
  }
 },
 "nbformat": 4,
 "nbformat_minor": 0
}